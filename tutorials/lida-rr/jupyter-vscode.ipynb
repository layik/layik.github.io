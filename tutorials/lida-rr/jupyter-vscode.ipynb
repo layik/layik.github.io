{
 "metadata": {
  "language_info": {
   "codemirror_mode": {
    "name": "ipython",
    "version": 3
   },
   "file_extension": ".py",
   "mimetype": "text/x-python",
   "name": "python",
   "nbconvert_exporter": "python",
   "pygments_lexer": "ipython3",
   "version": "2.7.17-final"
  },
  "orig_nbformat": 2,
  "kernelspec": {
   "name": "Python 2.7.17 64-bit",
   "display_name": "Python 2.7.17 64-bit",
   "metadata": {
    "interpreter": {
     "hash": "9f8db13761904f9a05eb54cadd7876dec043b4411add2dfc35f9ba54388f47e8"
    }
   }
  }
 },
 "nbformat": 4,
 "nbformat_minor": 2,
 "cells": [
  {
   "source": [
    "## VS Code Jupyter Support\n",
    "\n",
    "### Setting up\n",
    "You need the [Jupyter package](https://pypi.org/project/jupyter/) and then all you need to is run the command from the command pallet (on Macos ⇧⌘P) then `Python: Create Blank New Jupyter Notebook` which will also fire up the server.\n",
    "\n",
    "Type text in the \"M\" icon and then convert it back to HTML.\n",
    "\n",
    "A lote more from VS Code [docs](https://code.visualstudio.com/docs/python/jupyter-support).\n"
   ],
   "cell_type": "markdown",
   "metadata": {}
  },
  {
   "cell_type": "code",
   "execution_count": 2,
   "metadata": {
    "tags": []
   },
   "outputs": [
    {
     "output_type": "stream",
     "name": "stdout",
     "text": "Hello World\n"
    }
   ],
   "source": [
    "print(\"Hello World\")"
   ]
  }
 ]
}