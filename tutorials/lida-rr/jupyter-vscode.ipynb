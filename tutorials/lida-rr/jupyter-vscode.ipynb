{
 "metadata": {
  "language_info": {
   "codemirror_mode": {
    "name": "ipython",
    "version": 3
   },
   "file_extension": ".py",
   "mimetype": "text/x-python",
   "name": "python",
   "nbconvert_exporter": "python",
   "pygments_lexer": "ipython3",
   "version": 3
  },
  "orig_nbformat": 2
 },
 "nbformat": 4,
 "nbformat_minor": 2,
 "cells": [
  {
   "source": [
    "## VS Code Jupyter Support\n",
    "\n",
    "### Setting up\n",
    "You need the [Jupyter package](https://pypi.org/project/jupyter/) and then all you need to is run the command from the command pallet (on Macos ⇧⌘P) then `Python: Create Blank New Jupyter Notebook` which will also fire up the server.\n",
    "\n",
    "Type text in the \"M\" icon and then convert it back to HTML.\n"
   ],
   "cell_type": "code",
   "metadata": {},
   "execution_count": null,
   "outputs": []
  },
  {
   "cell_type": "code",
   "execution_count": null,
   "metadata": {},
   "outputs": [],
   "source": []
  }
 ]
}